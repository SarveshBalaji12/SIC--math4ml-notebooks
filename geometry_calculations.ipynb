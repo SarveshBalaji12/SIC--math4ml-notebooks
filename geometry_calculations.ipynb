{
 "cells": [
  {
   "cell_type": "code",
   "execution_count": 1,
   "id": "539964dc-744c-4432-b211-7b1719cecb59",
   "metadata": {},
   "outputs": [
    {
     "name": "stdout",
     "output_type": "stream",
     "text": [
      "12\n"
     ]
    }
   ],
   "source": [
    "a=5\n",
    "b=7\n",
    "print(a+b)"
   ]
  },
  {
   "cell_type": "code",
   "execution_count": 5,
   "id": "706fd2b6-cef0-45fa-9fbf-3c8654e5e845",
   "metadata": {},
   "outputs": [
    {
     "name": "stdin",
     "output_type": "stream",
     "text": [
      " 5\n",
      " 7\n"
     ]
    },
    {
     "name": "stdout",
     "output_type": "stream",
     "text": [
      "35\n",
      "24\n"
     ]
    }
   ],
   "source": [
    "a=int(input())\n",
    "b=int(input())\n",
    "area=a*b\n",
    "per=2*(a+b)\n",
    "print(area)\n",
    "print(per)"
   ]
  },
  {
   "cell_type": "code",
   "execution_count": 9,
   "id": "cd884091-7a30-4048-8e4b-71a92c74dcc9",
   "metadata": {},
   "outputs": [
    {
     "name": "stdin",
     "output_type": "stream",
     "text": [
      " 10\n"
     ]
    },
    {
     "name": "stdout",
     "output_type": "stream",
     "text": [
      "314.0\n",
      "62.800000000000004\n"
     ]
    }
   ],
   "source": [
    "r=int(input())\n",
    "\n",
    "area=3.14*r*r\n",
    "per=2*3.14*r\n",
    "print(area)\n",
    "print(per)"
   ]
  },
  {
   "cell_type": "code",
   "execution_count": 21,
   "id": "1495ac2c-357b-49fa-b8aa-247c8b4f7085",
   "metadata": {},
   "outputs": [
    {
     "data": {
      "image/png": "[encoded data removed]",
      "text/plain": [
       "<Figure size 640x480 with 1 Axes>"
      ]
     },
     "metadata": {},
     "output_type": "display_data"
    }
   ],
   "source": [
    "import numpy as np\n",
    "import matplotlib.pyplot as plt\n",
    "\n",
    "# Create an array of x values from -2 to 2 with a small step\n",
    "x = np.linspace(-2, 2, 100)\n",
    "\n",
    "# Calculate e^x for each value of x\n",
    "y = np.exp(x)\n",
    "\n",
    "# Create the plot\n",
    "plt.plot(x, y, label='$e^x$', color='blue')\n",
    "\n",
    "# Add title and labels\n",
    "plt.title('Graph of $e^x$')\n",
    "plt.xlabel('x')\n",
    "plt.ylabel('$e^x$')\n",
    "\n",
    "# Display grid for better readability\n",
    "plt.grid(True)\n",
    "\n",
    "# Show the plot\n",
    "plt.legend()\n",
    "plt.show()\n"
   ]
  },
  {
   "cell_type": "code",
   "execution_count": 19,
   "id": "5b671d41-9f5d-439d-ab73-d41a08d30ebc",
   "metadata": {},
   "outputs": [
    {
     "name": "stdin",
     "output_type": "stream",
     "text": [
      " 45\n"
     ]
    },
    {
     "name": "stdout",
     "output_type": "stream",
     "text": [
      "the fahrenhiet is 113.0\n"
     ]
    }
   ],
   "source": [
    "c=float(input())\n",
    "f=(9/5)*c+32;\n",
    "print(f\"the fahrenhiet is {f}\")\n"
   ]
  },
  {
   "cell_type": "code",
   "execution_count": 23,
   "id": "48ab80e4-0467-4f7d-837c-8816b1d483df",
   "metadata": {},
   "outputs": [
    {
     "name": "stdin",
     "output_type": "stream",
     "text": [
      " 100\n"
     ]
    },
    {
     "name": "stdout",
     "output_type": "stream",
     "text": [
      "62.137100000000004\n"
     ]
    }
   ],
   "source": [
    "k=float(input())\n",
    "m=k*0.621371\n",
    "print(m)"
   ]
  },
  {
   "cell_type": "code",
   "execution_count": 27,
   "id": "2b1f01d6-6983-4777-b254-de12d11251e6",
   "metadata": {},
   "outputs": [
    {
     "name": "stdin",
     "output_type": "stream",
     "text": [
      "enter a number 9\n"
     ]
    },
    {
     "name": "stdout",
     "output_type": "stream",
     "text": [
      "81\n"
     ]
    }
   ],
   "source": [
    "x=int(input(\"enter a number\"))\n",
    "y=x**2\n",
    "print(y)\n"
   ]
  },
  {
   "cell_type": "code",
   "execution_count": 37,
   "id": "228162ac-9538-4b9c-87e9-bfa264e48a6e",
   "metadata": {},
   "outputs": [
    {
     "name": "stdin",
     "output_type": "stream",
     "text": [
      " 7\n"
     ]
    },
    {
     "name": "stdout",
     "output_type": "stream",
     "text": [
      "odd\n"
     ]
    }
   ],
   "source": [
    "n=int(input())\n",
    "if(n%2==0):\n",
    " {\n",
    "    print(\"even\")\n",
    " }\n",
    "else:\n",
    " {\n",
    "    print(\"odd\")\n",
    " }"
   ]
  },
  {
   "cell_type": "code",
   "execution_count": null,
   "id": "dc5b984b-2c74-41b6-9515-815a6d8e8901",
   "metadata": {},
   "outputs": [],
   "source": []
  }
 ],
 "metadata": {
  "kernelspec": {
   "display_name": "Python 3 (ipykernel)",
   "language": "python",
   "name": "python3"
  },
  "language_info": {
   "codemirror_mode": {
    "name": "ipython",
    "version": 3
   },
   "file_extension": ".py",
   "mimetype": "text/x-python",
   "name": "python",
   "nbconvert_exporter": "python",
   "pygments_lexer": "ipython3",
   "version": "3.12.7"
  }
 },
 "nbformat": 4,
 "nbformat_minor": 5
}
