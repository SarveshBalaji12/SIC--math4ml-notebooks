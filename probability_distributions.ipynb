{
 "cells": [
  {
   "cell_type": "code",
   "execution_count": 1,
   "id": "4ade1906-34b7-4e95-a12e-69ceebd0574b",
   "metadata": {},
   "outputs": [
    {
     "name": "stdout",
     "output_type": "stream",
     "text": [
      "0.14705882352941177\n"
     ]
    }
   ],
   "source": [
    "p_a=0.50; p_b=0.30;p_c=0.20\n",
    "d_a=0.01;d_b=0.05;d_c=0.07\n",
    "p_def=(d_a*p_a)+(d_b*p_b)+(d_c*p_c)\n",
    "b_t=(d_a*p_a)/p_def\n",
    "print(b_t)\n"
   ]
  },
  {
   "cell_type": "code",
   "execution_count": 9,
   "id": "5483df77-edb7-4bdc-b0b0-2574f2dee641",
   "metadata": {},
   "outputs": [
    {
     "name": "stdout",
     "output_type": "stream",
     "text": [
      "-1.0\n",
      "8.25\n"
     ]
    }
   ],
   "source": [
    "x=[-5,-4,1,2]\n",
    "p_x=[0.25,0.125,0.5,0.125]\n",
    "\n",
    "mean=sum(x*p for x,p in zip(x,p_x))\n",
    "print(mean)\n",
    "\n",
    "variance=sum(p*(x-mean)**2 for x,p in zip(x,p_x))\n",
    "print(variance)"
   ]
  },
  {
   "cell_type": "code",
   "execution_count": 41,
   "id": "31e7770e-1f1b-4ed7-b4a8-0c8eadffdf11",
   "metadata": {},
   "outputs": [
    {
     "name": "stdout",
     "output_type": "stream",
     "text": [
      "0.6166666666666667\n",
      "0.31972222222222213\n"
     ]
    }
   ],
   "source": [
    "import numpy as np\n",
    "from sympy import symbols\n",
    "from scipy.integrate import quad\n",
    "a=0;b=2\n",
    "\n",
    "def pdf(x):\n",
    "    if 0<=x<=1:\n",
    "        return x**3\n",
    "    elif 1<x<=2:\n",
    "        return (2-x)**2\n",
    "    else:\n",
    "        return 0\n",
    "def mean(a,b):\n",
    "    mean_value,_=quad(lambda x : x*pdf(x),a,b)\n",
    "    return mean_value\n",
    "def variance(a,b):\n",
    "    e2,_=quad(lambda x : x**2*pdf(x),a,b)\n",
    "    e1=mean(a,b)\n",
    "\n",
    "    var_val=e2-(e1)**2\n",
    "    return var_val\n",
    "\n",
    "a,b=0,2\n",
    "mean_val=mean(a,b)\n",
    "vari_val=variance(a,b)\n",
    "print(mean_val)\n",
    "print(vari_val)"
   ]
  },
  {
   "cell_type": "code",
   "execution_count": 43,
   "id": "290c409c-cfb0-4587-9416-b14c559d8e78",
   "metadata": {},
   "outputs": [
    {
     "name": "stdout",
     "output_type": "stream",
     "text": [
      "0.2001209489999999\n"
     ]
    }
   ],
   "source": [
    "from scipy.stats import binom\n",
    "n=10\n",
    "p=0.3\n",
    "k=4\n",
    "prob=binom.pmf(k,n,p)\n",
    "print(prob)"
   ]
  },
  {
   "cell_type": "code",
   "execution_count": 47,
   "id": "8412b887-d6d5-41d0-aa5b-61d65d8edf4e",
   "metadata": {},
   "outputs": [
    {
     "name": "stdout",
     "output_type": "stream",
     "text": [
      "0.2517223358154297\n"
     ]
    }
   ],
   "source": [
    "import scipy.stats as stats\n",
    "n=20\n",
    "p=0.5\n",
    "prob_at_least=1-stats.binom.cdf(11,n,p)\n",
    "print(prob_at_least)"
   ]
  },
  {
   "cell_type": "code",
   "execution_count": 49,
   "id": "15927fe2-5682-45c8-9643-396dd3cc8366",
   "metadata": {},
   "outputs": [
    {
     "name": "stdout",
     "output_type": "stream",
     "text": [
      "0.08523250757999994\n"
     ]
    }
   ],
   "source": [
    "from scipy.stats import binom\n",
    "n=12\n",
    "p=0.1\n",
    "k=3\n",
    "prob=binom.pmf(k,n,p)\n",
    "print(prob)"
   ]
  },
  {
   "cell_type": "code",
   "execution_count": null,
   "id": "0b72112c-0369-4623-a205-df057cb8b654",
   "metadata": {},
   "outputs": [],
   "source": []
  }
 ],
 "metadata": {
  "kernelspec": {
   "display_name": "Python 3 (ipykernel)",
   "language": "python",
   "name": "python3"
  },
  "language_info": {
   "codemirror_mode": {
    "name": "ipython",
    "version": 3
   },
   "file_extension": ".py",
   "mimetype": "text/x-python",
   "name": "python",
   "nbconvert_exporter": "python",
   "pygments_lexer": "ipython3",
   "version": "3.12.7"
  }
 },
 "nbformat": 4,
 "nbformat_minor": 5
}
