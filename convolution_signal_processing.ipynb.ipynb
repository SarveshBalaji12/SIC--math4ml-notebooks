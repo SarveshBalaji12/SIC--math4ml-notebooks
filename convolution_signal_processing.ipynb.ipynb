{
 "cells": [
  {
   "cell_type": "code",
   "execution_count": 7,
   "id": "2f71b699-87ba-4f11-8f9b-bf42a32c4bd7",
   "metadata": {},
   "outputs": [],
   "source": [
    "import numpy as np\n",
    "import matplotlib.pyplot as plt"
   ]
  },
  {
   "cell_type": "code",
   "execution_count": 11,
   "id": "2c2c3d08-7b91-455b-ab77-b2d20c0bb775",
   "metadata": {},
   "outputs": [
    {
     "name": "stdin",
     "output_type": "stream",
     "text": [
      "Enter number of elements in X =\n",
      " 4\n",
      " 1\n",
      " 2\n",
      " -1\n",
      " 4\n"
     ]
    },
    {
     "name": "stdout",
     "output_type": "stream",
     "text": [
      "X = [1, 2, -1, 4]\n"
     ]
    },
    {
     "name": "stdin",
     "output_type": "stream",
     "text": [
      "Enter number of elements in H =\n",
      " 3\n",
      " 1\n",
      " -3\n",
      " 6\n"
     ]
    },
    {
     "name": "stdout",
     "output_type": "stream",
     "text": [
      "H = [1, -3, 6]\n",
      "\n",
      "Generated Matrix:\n",
      "[1, 2, -1, 4]\n",
      "[-3, -6, 3, -12]\n",
      "[6, 12, -6, 24]\n",
      "\n",
      "Diagonal sums: [1, -1, -1, 19, -18, 24]\n"
     ]
    }
   ],
   "source": [
    "# Input for x\n",
    "n1 = int(input('Enter number of elements in X =\\n'))\n",
    "x = []\n",
    "for i in range(n1):\n",
    "    x.append(int(input()))\n",
    "print('X =', x)\n",
    "\n",
    "# Input for h\n",
    "n2 = int(input('Enter number of elements in H =\\n'))\n",
    "h = []\n",
    "for i in range(n2):\n",
    "    h.append(int(input()))\n",
    "print('H =', h)\n",
    "\n",
    "# Step 1: Create outer product matrix\n",
    "matrix = []\n",
    "for i in range(n2):\n",
    "    row = []\n",
    "    for j in range(n1):\n",
    "        row.append(h[i] * x[j])\n",
    "    matrix.append(row)\n",
    "\n",
    "print(\"\\nGenerated Matrix:\")\n",
    "for row in matrix:\n",
    "    print(row)\n",
    "\n",
    "# Step 2: Compute top-left to bottom-right diagonal sums\n",
    "def diagonal_sums(mat):\n",
    "    n = len(mat)\n",
    "    m = len(mat[0])\n",
    "    result = []\n",
    "    for d in range(n + m - 1):\n",
    "        total = 0\n",
    "        for i in range(n):\n",
    "            j = d - i\n",
    "            if 0 <= j < m:\n",
    "                total += mat[i][j]\n",
    "        result.append(total)\n",
    "    return result\n",
    "\n",
    "# Step 3: Show diagonal sums\n",
    "sums = diagonal_sums(matrix)\n",
    "print(\"\\nDiagonal sums:\", sums)\n"
   ]
  },
  {
   "cell_type": "code",
   "execution_count": 13,
   "id": "6c5452eb-092b-481d-a031-58d7898cd77c",
   "metadata": {},
   "outputs": [
    {
     "data": {
      "text/plain": [
       "<StemContainer object of 3 artists>"
      ]
     },
     "execution_count": 13,
     "metadata": {},
     "output_type": "execute_result"
    },
    {
     "data": {
      "image/png": "[encoded data removed]",
      "text/plain": [
       "<Figure size 640x480 with 1 Axes>"
      ]
     },
     "metadata": {},
     "output_type": "display_data"
    }
   ],
   "source": [
    "plt.stem(sums)"
   ]
  },
  {
   "cell_type": "code",
   "execution_count": null,
   "id": "debb4251-e321-4437-83dd-e36361208815",
   "metadata": {},
   "outputs": [],
   "source": [
    "X=[[1,1,1,0,0],\n",
    "   [0,1,1,1,0],\n",
    "   [[0,0,1,1,1],\n",
    "   [0,0,1,1,0],\n",
    "   [0,1,1,0,1]]\n",
    "\n",
    "H=[[1,0,1],\n",
    "  [0,1,0],\n",
    "  [1,0,1]]\n",
    "\n",
    "\n",
    "\n",
    "\n",
    "   "
   ]
  }
 ],
 "metadata": {
  "kernelspec": {
   "display_name": "Python 3 (ipykernel)",
   "language": "python",
   "name": "python3"
  },
  "language_info": {
   "codemirror_mode": {
    "name": "ipython",
    "version": 3
   },
   "file_extension": ".py",
   "mimetype": "text/x-python",
   "name": "python",
   "nbconvert_exporter": "python",
   "pygments_lexer": "ipython3",
   "version": "3.12.7"
  }
 },
 "nbformat": 4,
 "nbformat_minor": 5
}
