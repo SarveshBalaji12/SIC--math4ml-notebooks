{
 "cells": [
  {
   "cell_type": "code",
   "execution_count": 5,
   "id": "eacd94a7-c095-42a7-97b2-ed9028bd342b",
   "metadata": {},
   "outputs": [
    {
     "name": "stdout",
     "output_type": "stream",
     "text": [
      "[[1 2]\n",
      " [3 4]]\n",
      "[[5 6]\n",
      " [7 8]]\n"
     ]
    }
   ],
   "source": [
    "import numpy as np\n",
    "a=np.array([[5,6],[7,8]])\n",
    "rray([[1,2],[3,4]])\n",
    "b=np.a\n",
    "print(a)\n",
    "print(b)"
   ]
  },
  {
   "cell_type": "code",
   "execution_count": 7,
   "id": "18780c69-e024-417c-ae79-928fdb85cf9c",
   "metadata": {},
   "outputs": [
    {
     "name": "stdout",
     "output_type": "stream",
     "text": [
      "[[ 6  8]\n",
      " [10 12]]\n",
      "[[-4 -4]\n",
      " [-4 -4]]\n",
      "[[2 4]\n",
      " [6 8]]\n",
      "[[19 22]\n",
      " [43 50]]\n",
      "[[1 3]\n",
      " [2 4]]\n"
     ]
    }
   ],
   "source": [
    "c=a+b\n",
    "d=a-b\n",
    "e=2*a\n",
    "f=np.dot(a,b)\n",
    "a_tr=a.T\n",
    "print(c)\n",
    "print(d)\n",
    "print(e)\n",
    "print(f)\n",
    "print(a_tr)"
   ]
  },
  {
   "cell_type": "code",
   "execution_count": 11,
   "id": "9409992d-e1d4-46b2-bd19-00a87ff092c5",
   "metadata": {},
   "outputs": [
    {
     "name": "stdout",
     "output_type": "stream",
     "text": [
      "[[ 6  8]\n",
      " [10 12]]\n",
      "[[-1.5 -1. ]\n",
      " [-0.5  0. ]]\n",
      "[[ 5 10]\n",
      " [15 20]]\n"
     ]
    }
   ],
   "source": [
    "print(a+b)\n",
    "print(a-1/2*b)\n",
    "print(5*a)"
   ]
  },
  {
   "cell_type": "code",
   "execution_count": 40,
   "id": "85deaa1c-0c25-4132-b42c-1b0958abc70f",
   "metadata": {},
   "outputs": [],
   "source": [
    "a=np.array([[2,3,1],[4,5,1],[1,1,1]])"
   ]
  },
  {
   "cell_type": "code",
   "execution_count": 46,
   "id": "be19ecd8-2885-4a3b-a881-1ea725d030b1",
   "metadata": {
    "scrolled": true
   },
   "outputs": [
    {
     "name": "stdout",
     "output_type": "stream",
     "text": [
      "-2.0\n"
     ]
    }
   ],
   "source": [
    "det_a=np.linalg.det(a)\n",
    "print(det_a)"
   ]
  },
  {
   "cell_type": "code",
   "execution_count": 58,
   "id": "bdc21dee-46f9-4b4a-a4b1-e62c2cdb9a62",
   "metadata": {},
   "outputs": [
    {
     "name": "stdout",
     "output_type": "stream",
     "text": [
      "[[1 3]\n",
      " [5 7]]\n",
      "[[ 4 -6]\n",
      " [-8 12]]\n",
      "[[-0.875  0.375]\n",
      " [ 0.625 -0.125]]\n"
     ]
    }
   ],
   "source": [
    "a=np.array([[1,3],[5,7]])\n",
    "b=np.array([[4,-6],[-8,12]])\n",
    "print(a)\n",
    "print(b)\n",
    "inva=np.linalg.inv(a)\n",
    "print(inva)\n"
   ]
  },
  {
   "cell_type": "code",
   "execution_count": 62,
   "id": "8a9bf1c7-5900-49a6-8cc6-833fd85624c4",
   "metadata": {},
   "outputs": [
    {
     "data": {
      "image/png": "[encoded data removed]",
      "text/plain": [
       "<Figure size 640x480 with 1 Axes>"
      ]
     },
     "metadata": {},
     "output_type": "display_data"
    }
   ],
   "source": [
    "import matplotlib.pyplot as plt\n",
    "points=np.array([[1,2],[3,4],[5,6]])\n",
    "a=np.array([[2,0],[0,3]])\n",
    "t_points=points@ a.T\n",
    "plt.scatter(points[:,0],points[:,1],color='blue',label='original points')\n",
    "plt.scatter(t_points[:,0],t_points[:,1],color='red',label='transformed points')\n",
    "plt.legend()\n",
    "plt.title(\"scaling transformation\")\n",
    "plt.grid(True)\n",
    "plt.show()"
   ]
  },
  {
   "cell_type": "code",
   "execution_count": null,
   "id": "82efa445-3cc8-4b59-9877-96374a52b6e6",
   "metadata": {},
   "outputs": [],
   "source": []
  }
 ],
 "metadata": {
  "kernelspec": {
   "display_name": "Python 3 (ipykernel)",
   "language": "python",
   "name": "python3"
  },
  "language_info": {
   "codemirror_mode": {
    "name": "ipython",
    "version": 3
   },
   "file_extension": ".py",
   "mimetype": "text/x-python",
   "name": "python",
   "nbconvert_exporter": "python",
   "pygments_lexer": "ipython3",
   "version": "3.12.7"
  }
 },
 "nbformat": 4,
 "nbformat_minor": 5
}
