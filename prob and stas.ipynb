{
 "cells": [
  {
   "cell_type": "code",
   "execution_count": 12,
   "id": "9790bfe6-3070-4142-b76a-36a2fcad07d8",
   "metadata": {},
   "outputs": [
    {
     "name": "stdout",
     "output_type": "stream",
     "text": [
      "z score: 2.7950\n",
      "p-value: 0.0052\n",
      "reject\n"
     ]
    }
   ],
   "source": [
    "import scipy.stats as stats\n",
    "import math\n",
    "\n",
    "def z_test(s_m,p_m,p_s,s_s,alpha=0.05):\n",
    "    se=p_s/math.sqrt(s_s)\n",
    "    z=(s_m-p_m)/se\n",
    "    p_val=2*(1-stats.norm.cdf(abs(z)))\n",
    "    print(f\"z score: {z:.4f}\")\n",
    "    print(f\"p-value: {p_val:.4f}\")\n",
    "\n",
    "    if(p_val<alpha):\n",
    "        print(\"reject\")\n",
    "    else:\n",
    "        print(\"fail to raject the null hypothesis\")\n",
    "        \n",
    "s_m=3.4\n",
    "p_m=3.25\n",
    "p_s=1.61\n",
    "s_s=900\n",
    "\n",
    "z_test(s_m,p_m,p_s,s_s)\n",
    "\n",
    "        "
   ]
  },
  {
   "cell_type": "code",
   "execution_count": null,
   "id": "566d6358-4f6f-4b0c-bde2-aee14387e5ae",
   "metadata": {},
   "outputs": [],
   "source": [
    "import math\n",
    "import scipy.stats  as stats\n",
    "def prop_se_ci(boad count,sample_size,confidencee=0.99):\n",
    "    p=bad_count/sample_sizee\n",
    "\n",
    "    se=math.sqrt(p*(1-p))sample_size\n",
    "    print(\"standard error\",se)\n",
    "    z_score=stats.norm.pdf(1-(1-confidence confidence/2))\n",
    "    m_e=z_score*"
   ]
  },
  {
   "cell_type": "code",
   "execution_count": null,
   "id": "99489938-8026-4297-9c5b-02507c3adb97",
   "metadata": {},
   "outputs": [],
   "source": [
    "bad_count=65\n",
    "s_s=500\n",
    "prop_se_ci(bad_count,sample_size)\n"
   ]
  },
  {
   "cell_type": "code",
   "execution_count": 20,
   "id": "0ebe328f-0eb0-4d88-b594-1095a47ee111",
   "metadata": {},
   "outputs": [
    {
     "name": "stdout",
     "output_type": "stream",
     "text": [
      "z score: -2.4209\n",
      "p-value: 0.0155\n",
      "Reject the null hypothesis\n"
     ]
    }
   ],
   "source": [
    "import math\n",
    "from scipy import stats\n",
    "\n",
    "def z_test_mean(mean1, std1, n1, mean2, std2, n2, alpha=0.05):\n",
    "\n",
    "    se = math.sqrt((std1**2 / n1) + (std2**2 / n2))\n",
    "    z = (mean1 - mean2) / se\n",
    "    p_val = 2 * (1 - stats.norm.cdf(abs(z)))  \n",
    "    print(f\"z score: {z:.4f}\")\n",
    "    print(f\"p-value: {p_val:.4f}\")\n",
    "\n",
    "    if p_val < alpha:\n",
    "        print(\"Reject the null hypothesis\")\n",
    "    else:\n",
    "        print(\"Fail to reject the null hypothesis\")\n",
    "\n",
    "n1 = 100\n",
    "n2 = 75\n",
    "mean1 = 1190\n",
    "mean2 = 1230\n",
    "std1 = 90\n",
    "std2 = 120\n",
    "\n",
    "z_test_mean(mean1, std1, n1, mean2, std2, n2)\n",
    "\n",
    "        "
   ]
  },
  {
   "cell_type": "code",
   "execution_count": 26,
   "id": "c55d39f4-4739-493a-8e17-97801db6c31b",
   "metadata": {},
   "outputs": [
    {
     "name": "stdout",
     "output_type": "stream",
     "text": [
      "z score: 0.9169\n",
      "p-value: 0.3592\n",
      "Fail to reject the null hypothesis\n"
     ]
    }
   ],
   "source": [
    "import math\n",
    "from scipy import stats\n",
    "\n",
    "def z_test_propotion(p1, n1, p2, n2,alpha=0.05):\n",
    "    \n",
    "    p_pool=(p1*n1+p2*n2)/(n1+n2)\n",
    "    se = math.sqrt(p_pool*(1-p_pool)*(1/n1+1/n2))\n",
    "    z = (p1 - p2) / se\n",
    "    p_val = 2 * (1 - stats.norm.cdf(abs(z)))  \n",
    "    print(f\"z score: {z:.4f}\")\n",
    "    print(f\"p-value: {p_val:.4f}\")\n",
    "\n",
    "    if p_val < alpha:\n",
    "        print(\"Reject the null hypothesis\")\n",
    "    else:\n",
    "        print(\"Fail to reject the null hypothesis\")\n",
    "\n",
    "p1=0.2\n",
    "n1=900\n",
    "p2=0.185\n",
    "n2=1600\n",
    "\n",
    "z_test_propotion(p1,n1,p2,n2)\n",
    "\n",
    "        "
   ]
  },
  {
   "cell_type": "code",
   "execution_count": null,
   "id": "2cf21fdf-60a9-467a-9f27-d2756f7903e4",
   "metadata": {},
   "outputs": [],
   "source": []
  }
 ],
 "metadata": {
  "kernelspec": {
   "display_name": "Python 3 (ipykernel)",
   "language": "python",
   "name": "python3"
  },
  "language_info": {
   "codemirror_mode": {
    "name": "ipython",
    "version": 3
   },
   "file_extension": ".py",
   "mimetype": "text/x-python",
   "name": "python",
   "nbconvert_exporter": "python",
   "pygments_lexer": "ipython3",
   "version": "3.12.7"
  }
 },
 "nbformat": 4,
 "nbformat_minor": 5
}
