{
 "cells": [
  {
   "cell_type": "code",
   "execution_count": 11,
   "id": "cb9ac7ec-5829-4121-828b-bafa5893c15a",
   "metadata": {},
   "outputs": [
    {
     "name": "stdout",
     "output_type": "stream",
     "text": [
      "0.3233235838169365\n"
     ]
    }
   ],
   "source": [
    "import math\n",
    "\n",
    "def poison_pmf(k,lambd):\n",
    "    return (math.exp(-lambd)*(lambd**k))/math.factorial(k)\n",
    "\n",
    "def poison_cdf(k,lambd):\n",
    "    return sum(poison_pmf(i,lambd) for i in range(k+1))\n",
    "\n",
    "n=2000\n",
    "p=0.001\n",
    "lambd=n*p\n",
    "\n",
    "p_x=poison_cdf(2,lambd)\n",
    "p_x_greater=1-p_x\n",
    "\n",
    "print(p_x_greater)\n",
    "\n",
    "\n"
   ]
  },
  {
   "cell_type": "code",
   "execution_count": 29,
   "id": "68bb3201-eb94-483a-bb00-a27a05590f95",
   "metadata": {},
   "outputs": [
    {
     "name": "stdout",
     "output_type": "stream",
     "text": [
      "0.14037389581428056\n",
      "0.12465201948308113\n",
      "0.5595067149347877\n"
     ]
    }
   ],
   "source": [
    "import math\n",
    "\n",
    "def poison_pmf(k,lambd):\n",
    "    return (math.exp(-lambd)*(lambd)**k)/math.factorial(k)\n",
    "\n",
    "def poison_cdf(k,lambd):\n",
    "    return sum(poison_pmf(i,lambd) for i in range(k+1))\n",
    "\n",
    "lambd=5\n",
    "\n",
    "p_x=poison_pmf(3,lambd)\n",
    "p_x_greater=1-p_x\n",
    "print(p_x)\n",
    "\n",
    "p_x2=poison_cdf(2,lambd)\n",
    "print(p_x2)\n",
    "\n",
    "p_x3=poison_cdf(4,lambd)\n",
    "print(1-p_x3)"
   ]
  },
  {
   "cell_type": "code",
   "execution_count": null,
   "id": "5eee1435-97ef-4375-8127-2b284205ee5f",
   "metadata": {},
   "outputs": [],
   "source": []
  }
 ],
 "metadata": {
  "kernelspec": {
   "display_name": "Python 3 (ipykernel)",
   "language": "python",
   "name": "python3"
  },
  "language_info": {
   "codemirror_mode": {
    "name": "ipython",
    "version": 3
   },
   "file_extension": ".py",
   "mimetype": "text/x-python",
   "name": "python",
   "nbconvert_exporter": "python",
   "pygments_lexer": "ipython3",
   "version": "3.12.7"
  }
 },
 "nbformat": 4,
 "nbformat_minor": 5
}
