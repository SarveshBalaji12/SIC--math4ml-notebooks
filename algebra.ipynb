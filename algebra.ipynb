{
 "cells": [
  {
   "cell_type": "code",
   "execution_count": 3,
   "id": "6ed4ce9a-605b-41ad-826c-09c8f7f8628d",
   "metadata": {},
   "outputs": [
    {
     "name": "stdout",
     "output_type": "stream",
     "text": [
      "[5]\n"
     ]
    }
   ],
   "source": [
    "from sympy import symbols,Eq,solve\n",
    "\n",
    "x=symbols('x')\n",
    "eq=Eq(3*x+7,22)\n",
    "solution=solve(eq,x)\n",
    "print(solution)\n"
   ]
  },
  {
   "cell_type": "code",
   "execution_count": 5,
   "id": "74a02914-d659-4ed9-a146-b7f091ec31e2",
   "metadata": {},
   "outputs": [
    {
     "name": "stdout",
     "output_type": "stream",
     "text": [
      "{x: 27/14, y: 19/7}\n"
     ]
    }
   ],
   "source": [
    "x=symbols('x')\n",
    "y=symbols('y')\n",
    "eq=Eq(2*x+3*y,12)\n",
    "eq1=Eq(4*x-y,5)\n",
    "solution=solve((eq,eq1),(x,y))\n",
    "print(solution)"
   ]
  },
  {
   "cell_type": "code",
   "execution_count": 7,
   "id": "a3db57bb-71ac-45d6-9bac-5f922e5d02ef",
   "metadata": {},
   "outputs": [
    {
     "name": "stdout",
     "output_type": "stream",
     "text": [
      "{x: 100, y: 100000}\n"
     ]
    }
   ],
   "source": [
    "x,y=symbols('x y')\n",
    "eq=Eq(x*1000+y,200000)\n",
    "eq1=Eq(x*1500+y,250000)\n",
    "solution=solve((eq,eq1),(x,y))\n",
    "print(solution)"
   ]
  },
  {
   "cell_type": "code",
   "execution_count": 19,
   "id": "d2b269a4-8931-441b-8bdb-59f8fc5f8927",
   "metadata": {},
   "outputs": [
    {
     "name": "stdout",
     "output_type": "stream",
     "text": [
      "[-3, -2]\n"
     ]
    }
   ],
   "source": [
    "x=symbols('x')\n",
    "eq=Eq(x**2+5*x+6,0)\n",
    "solution=solve(eq,x)\n",
    "print(solution)"
   ]
  },
  {
   "cell_type": "code",
   "execution_count": 23,
   "id": "29ab9ed6-0f89-4336-8347-41e4c45dc51f",
   "metadata": {},
   "outputs": [
    {
     "name": "stdout",
     "output_type": "stream",
     "text": [
      "[1, 2, 3]\n"
     ]
    }
   ],
   "source": [
    "x=symbols('x')\n",
    "eq=Eq(x**3-6*x**2+11*x-6,0)\n",
    "solution=solve(eq,x)\n",
    "print(solution)"
   ]
  },
  {
   "cell_type": "code",
   "execution_count": 25,
   "id": "2108c55f-8396-473f-a046-ddeae2133be6",
   "metadata": {},
   "outputs": [
    {
     "name": "stdout",
     "output_type": "stream",
     "text": [
      "15\n"
     ]
    }
   ],
   "source": [
    "def poly(x):\n",
    "    return 2*x**2-5*x+3\n",
    "x=4\n",
    "result=poly(x)\n",
    "print(result)"
   ]
  },
  {
   "cell_type": "code",
   "execution_count": 31,
   "id": "40740770-366a-417c-917f-cc92b0adaeba",
   "metadata": {},
   "outputs": [
    {
     "name": "stdout",
     "output_type": "stream",
     "text": [
      "[11, 31, 85, 191, 367]\n"
     ]
    }
   ],
   "source": [
    "import numpy as np\n",
    "b=[]\n",
    "def poly(x):\n",
    "    return 3*x**3-x*x+2*x+7\n",
    "    \n",
    "x=[1,2,3,4,5]\n",
    "for i in x:\n",
    "   result=poly(i)\n",
    "   b.append(result)\n",
    "print(b)    "
   ]
  },
  {
   "cell_type": "code",
   "execution_count": 35,
   "id": "33ce88d2-36dc-4dd4-b043-455e9703bc1d",
   "metadata": {},
   "outputs": [
    {
     "name": "stdout",
     "output_type": "stream",
     "text": [
      "1 11\n",
      "2 31\n",
      "3 85\n",
      "4 191\n",
      "5 367\n"
     ]
    }
   ],
   "source": [
    "import numpy as np\n",
    "def poly(x):\n",
    "    return 3*x**3-x*x+2*x+7\n",
    "    \n",
    "x=np.array([1,2,3,4,5])\n",
    "y=poly(x)\n",
    "for i,j in zip(x,y):\n",
    "   print(i,j)  "
   ]
  },
  {
   "cell_type": "code",
   "execution_count": null,
   "id": "181fabd4-4d58-4dcc-bb57-a34b179566b6",
   "metadata": {},
   "outputs": [],
   "source": []
  }
 ],
 "metadata": {
  "kernelspec": {
   "display_name": "Python 3 (ipykernel)",
   "language": "python",
   "name": "python3"
  },
  "language_info": {
   "codemirror_mode": {
    "name": "ipython",
    "version": 3
   },
   "file_extension": ".py",
   "mimetype": "text/x-python",
   "name": "python",
   "nbconvert_exporter": "python",
   "pygments_lexer": "ipython3",
   "version": "3.12.7"
  }
 },
 "nbformat": 4,
 "nbformat_minor": 5
}
