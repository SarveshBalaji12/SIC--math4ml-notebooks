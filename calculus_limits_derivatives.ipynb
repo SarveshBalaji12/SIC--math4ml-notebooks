{
 "cells": [
  {
   "cell_type": "code",
   "execution_count": 77,
   "id": "2bfcfc88-beef-41cc-adc0-f6111e2b74a2",
   "metadata": {},
   "outputs": [
    {
     "name": "stdout",
     "output_type": "stream",
     "text": [
      "11\n"
     ]
    }
   ],
   "source": [
    "import sympy as s\n",
    "\n",
    "f=(3*x**2+2*x-5)\n",
    "L=sp.limit(f,x,2)\n",
    "print(L)\n"
   ]
  },
  {
   "cell_type": "code",
   "execution_count": 78,
   "id": "0df128fc-871c-4bcc-9f12-5908237e54dc",
   "metadata": {},
   "outputs": [
    {
     "name": "stdout",
     "output_type": "stream",
     "text": [
      "1/2\n"
     ]
    }
   ],
   "source": [
    "f=(x**2+3*x+2)/(2*x**2-x+1)\n",
    "L=sp.limit(f,x,sp.oo)\n",
    "print(L)"
   ]
  },
  {
   "cell_type": "code",
   "execution_count": 79,
   "id": "0ad09a85-49cd-4492-a657-a3327d9857b1",
   "metadata": {},
   "outputs": [
    {
     "data": {
      "text/latex": [
       "$\\displaystyle 12 x^{3} - 10 x + 7$"
      ],
      "text/plain": [
       "12*x**3 - 10*x + 7"
      ]
     },
     "execution_count": 79,
     "metadata": {},
     "output_type": "execute_result"
    }
   ],
   "source": [
    "f=3*x**4-5*x**2+7*x-2\n",
    "df=sp.diff(f,x)\n",
    "df"
   ]
  },
  {
   "cell_type": "code",
   "execution_count": 80,
   "id": "37fd69e8-7544-4833-873a-6cbc2e4d6cf2",
   "metadata": {},
   "outputs": [
    {
     "data": {
      "text/latex": [
       "$\\displaystyle 2020 x^{2019} + 9 x^{2}$"
      ],
      "text/plain": [
       "2020*x**2019 + 9*x**2"
      ]
     },
     "execution_count": 80,
     "metadata": {},
     "output_type": "execute_result"
    }
   ],
   "source": [
    "f=x**2020+3*x**3-1\n",
    "df=sp.diff(f,x)\n",
    "df"
   ]
  },
  {
   "cell_type": "code",
   "execution_count": 81,
   "id": "ecb9bc12-d7ce-4cfd-affb-8e1dc70d8882",
   "metadata": {},
   "outputs": [
    {
     "data": {
      "text/latex": [
       "$\\displaystyle 3 e^{3 x}$"
      ],
      "text/plain": [
       "3*exp(3*x)"
      ]
     },
     "execution_count": 81,
     "metadata": {},
     "output_type": "execute_result"
    }
   ],
   "source": [
    "import numpy as np\n",
    "f=sp.exp(3*x)\n",
    "df=sp.diff(f,x)\n",
    "df"
   ]
  },
  {
   "cell_type": "code",
   "execution_count": 82,
   "id": "4183b610-e90a-4ea7-b2e0-bfc4a46e8421",
   "metadata": {},
   "outputs": [
    {
     "data": {
      "text/latex": [
       "$\\displaystyle 2 e^{2 x} \\sin{\\left(x \\right)} + e^{2 x} \\cos{\\left(x \\right)}$"
      ],
      "text/plain": [
       "2*exp(2*x)*sin(x) + exp(2*x)*cos(x)"
      ]
     },
     "execution_count": 82,
     "metadata": {},
     "output_type": "execute_result"
    }
   ],
   "source": [
    "import numpy as np\n",
    "f=sp.exp(2*x)*sp.sin(x)\n",
    "df=sp.diff(f,x)\n",
    "df"
   ]
  },
  {
   "cell_type": "code",
   "execution_count": 83,
   "id": "8f8c9f61-be18-4050-b7ba-dcc45ff5079f",
   "metadata": {},
   "outputs": [
    {
     "data": {
      "text/latex": [
       "$\\displaystyle \\frac{3 x^{2}}{x^{3} + 1}$"
      ],
      "text/plain": [
       "3*x**2/(x**3 + 1)"
      ]
     },
     "execution_count": 83,
     "metadata": {},
     "output_type": "execute_result"
    }
   ],
   "source": [
    "import numpy as np\n",
    "f=sp.log(x**3+1)\n",
    "df=sp.diff(f,x)\n",
    "df"
   ]
  },
  {
   "cell_type": "code",
   "execution_count": 84,
   "id": "0edd1041-b6a3-493b-9a3c-f883091f91f5",
   "metadata": {},
   "outputs": [
    {
     "data": {
      "text/latex": [
       "$\\displaystyle - \\frac{x}{\\left(x + 1\\right)^{2}} + \\frac{1}{x + 1}$"
      ],
      "text/plain": [
       "-x/(x + 1)**2 + 1/(x + 1)"
      ]
     },
     "execution_count": 84,
     "metadata": {},
     "output_type": "execute_result"
    }
   ],
   "source": [
    "import numpy as np\n",
    "f=x/(x+1)\n",
    "df=sp.diff(f,x)\n",
    "df\n",
    "#sp.simplify(sp.diff(f,x))"
   ]
  },
  {
   "cell_type": "code",
   "execution_count": 85,
   "id": "7a1e5446-c8a7-4ab9-8ab0-4a9e07e3c47b",
   "metadata": {},
   "outputs": [
    {
     "data": {
      "text/latex": [
       "$\\displaystyle \\frac{\\left(x - 1\\right) e^{x}}{x^{2}}$"
      ],
      "text/plain": [
       "(x - 1)*exp(x)/x**2"
      ]
     },
     "execution_count": 85,
     "metadata": {},
     "output_type": "execute_result"
    }
   ],
   "source": [
    "import numpy as np\n",
    "f=sp.exp(x)/x\n",
    "df=sp.diff(f,x)\n",
    "df\n",
    "sp.simplify(sp.diff(f,x))"
   ]
  },
  {
   "cell_type": "code",
   "execution_count": 86,
   "id": "76311f96-2a73-4f93-95cd-cd6c2f99edfe",
   "metadata": {},
   "outputs": [
    {
     "data": {
      "text/latex": [
       "$\\displaystyle - \\log{\\left(x \\right)} - 1 + \\frac{3}{x \\log{\\left(2 \\right)}}$"
      ],
      "text/plain": [
       "-log(x) - 1 + 3/(x*log(2))"
      ]
     },
     "execution_count": 86,
     "metadata": {},
     "output_type": "execute_result"
    }
   ],
   "source": [
    "import numpy as np\n",
    "f=3*sp.log(x,2)-x*sp.log(x)\n",
    "df=sp.diff(f,x)\n",
    "df\n",
    "sp.simplify(sp.diff(f,x))"
   ]
  },
  {
   "cell_type": "code",
   "execution_count": 87,
   "id": "3f007617-78be-432e-8e78-de87a22eafaf",
   "metadata": {},
   "outputs": [
    {
     "data": {
      "text/latex": [
       "$\\displaystyle 6 x \\left(x^{2} + 2\\right)^{2}$"
      ],
      "text/plain": [
       "6*x*(x**2 + 2)**2"
      ]
     },
     "execution_count": 87,
     "metadata": {},
     "output_type": "execute_result"
    }
   ],
   "source": [
    "import numpy as np\n",
    "f=(x**2+2)**3\n",
    "df=sp.diff(f,x)\n",
    "df\n",
    "sp.simplify(sp.diff(f,x))"
   ]
  },
  {
   "cell_type": "code",
   "execution_count": 88,
   "id": "50a88412-c738-46e1-b939-346ef1f409d6",
   "metadata": {},
   "outputs": [
    {
     "data": {
      "text/latex": [
       "$\\displaystyle - \\frac{8 x^{3}}{\\left(x^{4} + 1\\right)^{3}}$"
      ],
      "text/plain": [
       "-8*x**3/(x**4 + 1)**3"
      ]
     },
     "execution_count": 88,
     "metadata": {},
     "output_type": "execute_result"
    }
   ],
   "source": [
    "import numpy as np\n",
    "f=1/(x**4+1)**2\n",
    "df=sp.diff(f,x)\n",
    "df\n",
    "sp.simplify(sp.diff(f,x))"
   ]
  },
  {
   "cell_type": "code",
   "execution_count": 89,
   "id": "debb0268-65fb-4987-927d-7e0594429adc",
   "metadata": {},
   "outputs": [
    {
     "name": "stdout",
     "output_type": "stream",
     "text": [
      "3*x**2 - 8*x + 5\n",
      "6*x - 8\n",
      "6\n"
     ]
    }
   ],
   "source": [
    "f=x**3-4*x**2+5*x-7\n",
    "df=sp.diff(f,x)\n",
    "df2=sp.diff(df,x)\n",
    "df3=sp.diff(df2,x)\n",
    "print(df)\n",
    "print(df2)\n",
    "print(df3)\n"
   ]
  },
  {
   "cell_type": "code",
   "execution_count": 103,
   "id": "e26ceb54-1b6e-49c9-a432-234079dec63b",
   "metadata": {},
   "outputs": [
    {
     "name": "stdout",
     "output_type": "stream",
     "text": [
      "2*x*y + y*exp(x*y) + cos(x)\n",
      "x**2 + x*exp(x*y)\n"
     ]
    }
   ],
   "source": [
    "import sympy as sp\n",
    "x,y=sp.symbols('x y')\n",
    "f=x**2*y+sp.exp(x*y)+sp.sin(x)\n",
    "fx=sp.diff(f,x)\n",
    "fy=sp.diff(f,y)\n",
    "print(fx)\n",
    "print(fy)"
   ]
  },
  {
   "cell_type": "code",
   "execution_count": 105,
   "id": "3ab2453d-f709-41dd-9813-27d7b052005b",
   "metadata": {},
   "outputs": [
    {
     "name": "stdout",
     "output_type": "stream",
     "text": [
      "3*x**2*y*exp(x*y) + 6*x*y**2 + 6*x*exp(x*y)\n",
      "3*x**2*y*exp(x*y) + 6*x*y**2 + 6*x*exp(x*y)\n"
     ]
    }
   ],
   "source": [
    "import sympy as sp\n",
    "x,y=sp.symbols('x y')\n",
    "f=x**2*y**3+3*x*sp.exp(x*y)\n",
    "fx=sp.diff(sp.diff(f,x),y)\n",
    "fy=sp.diff(sp.diff(f,y),x)\n",
    "print(fx)\n",
    "print(fy)"
   ]
  },
  {
   "cell_type": "code",
   "execution_count": null,
   "id": "bb0dd9cc-1d95-44af-86df-f0f07be1dd7d",
   "metadata": {},
   "outputs": [],
   "source": []
  }
 ],
 "metadata": {
  "kernelspec": {
   "display_name": "Python 3 (ipykernel)",
   "language": "python",
   "name": "python3"
  },
  "language_info": {
   "codemirror_mode": {
    "name": "ipython",
    "version": 3
   },
   "file_extension": ".py",
   "mimetype": "text/x-python",
   "name": "python",
   "nbconvert_exporter": "python",
   "pygments_lexer": "ipython3",
   "version": "3.12.7"
  }
 },
 "nbformat": 4,
 "nbformat_minor": 5
}
