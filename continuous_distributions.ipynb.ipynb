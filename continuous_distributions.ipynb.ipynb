{
 "cells": [
  {
   "cell_type": "code",
   "execution_count": 13,
   "id": "f77cb591-d9af-48de-bd8b-66c6dbc7faad",
   "metadata": {},
   "outputs": [
    {
     "name": "stdout",
     "output_type": "stream",
     "text": [
      "0.6166666666666667\n",
      "0.31972222222222213\n"
     ]
    }
   ],
   "source": [
    "from scipy.integrate import quad\n",
    "\n",
    "def f(x):\n",
    "    if 0<=x<=1:\n",
    "        return x**3\n",
    "    elif 1<=x<=2:\n",
    "        return (2-x)**2\n",
    "    else:\n",
    "        return 0\n",
    "\n",
    "\n",
    "def expval():\n",
    "    e_x,error=quad(lambda x : x*f(x),0,2)\n",
    "    return e_x\n",
    "\n",
    "def exp_val_square():\n",
    "    e_x2,error=quad(lambda x : x**2*f(x),0,2)\n",
    "    return e_x2\n",
    "\n",
    "def variance():\n",
    "    e_x=expval()\n",
    "    e_x2=exp_val_square()\n",
    "    return e_x2-e_x**2\n",
    "\n",
    "if __name__==\"__main__\":\n",
    "    mean=expval()\n",
    "    var=variance()\n",
    "    print(mean)\n",
    "    print(var)\n",
    "\n"
   ]
  },
  {
   "cell_type": "code",
   "execution_count": 15,
   "id": "04a536b5-da2a-4866-bb3f-1a12da1f0aa7",
   "metadata": {},
   "outputs": [
    {
     "name": "stdout",
     "output_type": "stream",
     "text": [
      "0.5759561937347445\n"
     ]
    }
   ],
   "source": [
    "#p(-6<x<3)\n",
    "from scipy.stats import norm\n",
    "mean=2\n",
    "sd=4;l_b=-6;u_b=3\n",
    "\n",
    "prob_lower=norm.cdf(l_b,loc=mean,scale=sd)\n",
    "prob_upper=norm.cdf(u_b,loc=mean,scale=sd)\n",
    "\n",
    "prob=prob_upper-prob_lower\n",
    "print(prob)"
   ]
  },
  {
   "cell_type": "code",
   "execution_count": 21,
   "id": "a8e5baa0-1cac-4487-85fd-28dae17d2e08",
   "metadata": {},
   "outputs": [
    {
     "name": "stdout",
     "output_type": "stream",
     "text": [
      "66.7530151696345\n"
     ]
    }
   ],
   "source": [
    "from scipy.stats import norm\n",
    "mean=2040\n",
    "sd=60;bound=2150;\n",
    "\n",
    "prob_bound=norm.cdf(bound,loc=mean,scale=sd)\n",
    "\n",
    "prob=prob_upper=1-prob_bound\n",
    "print(2000*prob)"
   ]
  },
  {
   "cell_type": "code",
   "execution_count": null,
   "id": "3a6f80cf-dc35-46f0-a722-df5da9986089",
   "metadata": {},
   "outputs": [],
   "source": []
  }
 ],
 "metadata": {
  "kernelspec": {
   "display_name": "Python 3 (ipykernel)",
   "language": "python",
   "name": "python3"
  },
  "language_info": {
   "codemirror_mode": {
    "name": "ipython",
    "version": 3
   },
   "file_extension": ".py",
   "mimetype": "text/x-python",
   "name": "python",
   "nbconvert_exporter": "python",
   "pygments_lexer": "ipython3",
   "version": "3.12.7"
  }
 },
 "nbformat": 4,
 "nbformat_minor": 5
}
