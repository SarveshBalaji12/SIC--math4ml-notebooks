{
 "cells": [
  {
   "cell_type": "code",
   "execution_count": 1,
   "id": "4a2f9bf1-5a03-42d1-97c6-8d0cb0ea369e",
   "metadata": {},
   "outputs": [
    {
     "name": "stdout",
     "output_type": "stream",
     "text": [
      "vector:  [4]\n"
     ]
    }
   ],
   "source": [
    "import numpy as np\n",
    "v=np.array([4])\n",
    "print(\"vector: \",v )"
   ]
  },
  {
   "cell_type": "code",
   "execution_count": 5,
   "id": "242ff23e-b2c5-4b21-8e35-d3e1160aad40",
   "metadata": {},
   "outputs": [
    {
     "name": "stdout",
     "output_type": "stream",
     "text": [
      "vector:  (2,)\n"
     ]
    }
   ],
   "source": [
    "import numpy as np\n",
    "v=np.array([3,4])\n",
    "print(\"vector: \",v.shape) # one dimensional array with 2 elements\n"
   ]
  },
  {
   "cell_type": "code",
   "execution_count": 7,
   "id": "0f1a3873-3b9c-4b5d-8553-407d7d6bc40c",
   "metadata": {},
   "outputs": [],
   "source": [
    "M=np.array([[1,2],[3,4],[5,6]])"
   ]
  },
  {
   "cell_type": "code",
   "execution_count": 9,
   "id": "3ab044a4-4257-4e4f-bb07-672878e33cfc",
   "metadata": {},
   "outputs": [
    {
     "data": {
      "text/plain": [
       "array([[1, 2],\n",
       "       [3, 4],\n",
       "       [5, 6]])"
      ]
     },
     "execution_count": 9,
     "metadata": {},
     "output_type": "execute_result"
    }
   ],
   "source": [
    "M"
   ]
  },
  {
   "cell_type": "code",
   "execution_count": 11,
   "id": "745d1a24-a7e3-4728-8205-d78447dcd603",
   "metadata": {},
   "outputs": [
    {
     "data": {
      "text/plain": [
       "(3, 2)"
      ]
     },
     "execution_count": 11,
     "metadata": {},
     "output_type": "execute_result"
    }
   ],
   "source": [
    "M.shape"
   ]
  },
  {
   "cell_type": "code",
   "execution_count": 21,
   "id": "e485ac5f-34a8-4a43-ae99-0f990eefe6b7",
   "metadata": {},
   "outputs": [
    {
     "name": "stdout",
     "output_type": "stream",
     "text": [
      "[5 7 9]\n",
      "[-3 -3 -3]\n"
     ]
    }
   ],
   "source": [
    "import numpy as np\n",
    "a=np.array([1,2,3])\n",
    "b=np.array([4,5,6])\n",
    "res1=a+b\n",
    "res2=a-b\n",
    "print(res1)\n",
    "print(res2)"
   ]
  },
  {
   "cell_type": "code",
   "execution_count": 29,
   "id": "f847ccb7-e3c1-42b6-bcb8-d17f3f4578cf",
   "metadata": {},
   "outputs": [
    {
     "name": "stdout",
     "output_type": "stream",
     "text": [
      "(1,)\n"
     ]
    }
   ],
   "source": [
    "import numpy as np\n",
    "v=np.array([4])\n",
    "print(v.shape)"
   ]
  }
 ],
 "metadata": {
  "kernelspec": {
   "display_name": "Python 3 (ipykernel)",
   "language": "python",
   "name": "python3"
  },
  "language_info": {
   "codemirror_mode": {
    "name": "ipython",
    "version": 3
   },
   "file_extension": ".py",
   "mimetype": "text/x-python",
   "name": "python",
   "nbconvert_exporter": "python",
   "pygments_lexer": "ipython3",
   "version": "3.12.7"
  }
 },
 "nbformat": 4,
 "nbformat_minor": 5
}
