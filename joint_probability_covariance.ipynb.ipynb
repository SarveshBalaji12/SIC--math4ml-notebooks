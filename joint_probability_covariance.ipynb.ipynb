{
 "cells": [
  {
   "cell_type": "code",
   "execution_count": 18,
   "id": "4c15ac92-4d2d-49d5-a1c3-891dcb510244",
   "metadata": {},
   "outputs": [
    {
     "name": "stdout",
     "output_type": "stream",
     "text": [
      "[0.5 0.5]\n",
      "[0.375 0.375 0.25 ]\n",
      "3.0\n",
      "1.0\n",
      "[0.5 0.5]\n",
      "4.0\n",
      "18.75\n",
      "-1.5\n",
      "-0.1732050807568877\n"
     ]
    }
   ],
   "source": [
    "import numpy as np\n",
    "def joint_prob(x_val,y_val,prob_matrix):\n",
    "    p_x=np.sum(prob_matrix,axis=1)\n",
    "    p_y=np.sum(prob_matrix,axis=0)\n",
    "\n",
    "    e_x=np.sum(x_val*p_x)\n",
    "    e_y=np.sum(y_val*p_y)\n",
    "\n",
    "    var_x=np.sum((x_val-e_x)**2*p_x)\n",
    "    var_y=np.sum((y_val-e_y)**2*p_y)\n",
    "      \n",
    "\n",
    "    e_xy=np.sum(x_val[:,None]*y_val*prob_matrix)\n",
    "    cov_xy=e_xy-(e_x*e_y)\n",
    "\n",
    "    corr_xy=cov_xy/np.sqrt(var_x*var_y)\n",
    "    \n",
    "    return p_x, p_y, e_x, e_y, var_x, var_y, cov_xy, corr_xy\n",
    "    \n",
    "x=np.array([1,5])\n",
    "y=np.array([-4,2,7])\n",
    "prob=np.array([[0.125,0.25,0.125],[0.25,0.125,0.125]])\n",
    "\n",
    "p_x, p_y, e_x, e_y, var_x, var_y, cov_xy, corr_xy=joint_prob(x,y,prob)\n",
    "\n",
    "print(p_x)\n",
    "print(p_y)\n",
    "print(e_x)\n",
    "print(e_y)\n",
    "print(p_x)\n",
    "print(var_x)\n",
    "print(var_y)\n",
    "print(cov_xy)\n",
    "print(corr_xy)\n",
    "\n",
    "\n"
   ]
  },
  {
   "cell_type": "code",
   "execution_count": 22,
   "id": "e4d4a9a8-568b-414e-9d35-1660dca462b9",
   "metadata": {},
   "outputs": [
    {
     "name": "stdout",
     "output_type": "stream",
     "text": [
      "[0.33333333 0.33333333 0.33333333]\n",
      "[0.33333333 0.66666667]\n",
      "0.0\n",
      "0.6666666666666666\n",
      "[0.33333333 0.33333333 0.33333333]\n",
      "0.6666666666666666\n",
      "0.2222222222222222\n",
      "0.0\n",
      "0.0\n",
      "0.0\n"
     ]
    }
   ],
   "source": [
    "import numpy as np\n",
    "def joint_prob(x_val,y_val,prob_matrix):\n",
    "    p_x=np.sum(prob_matrix,axis=1)\n",
    "    p_y=np.sum(prob_matrix,axis=0)\n",
    "\n",
    "    e_x=np.sum(x_val*p_x)\n",
    "    e_y=np.sum(y_val*p_y)\n",
    "\n",
    "    var_x=np.sum((x_val-e_x)**2*p_x)\n",
    "    var_y=np.sum((y_val-e_y)**2*p_y)\n",
    "      \n",
    "\n",
    "    e_xy=np.sum(x_val[:,None]*y_val*prob_matrix)\n",
    "    cov_xy=e_xy-(e_x*e_y)\n",
    "\n",
    "    corr_xy=cov_xy/np.sqrt(var_x*var_y)\n",
    "    \n",
    "    return p_x, p_y, e_x, e_y, var_x, var_y, cov_xy, corr_xy,e_xy\n",
    "    \n",
    "x=np.array([-1,0,1])\n",
    "y=np.array([0,1])\n",
    "prob=np.array([[0,1/3],[1/3,0],[0,1/3]])\n",
    "\n",
    "p_x, p_y, e_x, e_y, var_x, var_y, cov_xy, corr_xy,e_xy=joint_prob(x,y,prob)\n",
    "\n",
    "print(p_x)\n",
    "print(p_y)\n",
    "print(e_x)\n",
    "print(e_y)\n",
    "print(p_x)\n",
    "print(var_x)\n",
    "print(var_y)\n",
    "print(cov_xy)\n",
    "print(corr_xy)\n",
    "print(e_xy)\n",
    "\n"
   ]
  },
  {
   "cell_type": "code",
   "execution_count": null,
   "id": "cd46dde3-d7f4-499a-8202-b2612295eac2",
   "metadata": {},
   "outputs": [],
   "source": []
  }
 ],
 "metadata": {
  "kernelspec": {
   "display_name": "Python 3 (ipykernel)",
   "language": "python",
   "name": "python3"
  },
  "language_info": {
   "codemirror_mode": {
    "name": "ipython",
    "version": 3
   },
   "file_extension": ".py",
   "mimetype": "text/x-python",
   "name": "python",
   "nbconvert_exporter": "python",
   "pygments_lexer": "ipython3",
   "version": "3.12.7"
  }
 },
 "nbformat": 4,
 "nbformat_minor": 5
}
