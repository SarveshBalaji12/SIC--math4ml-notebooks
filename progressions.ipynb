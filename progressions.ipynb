{
 "cells": [
  {
   "cell_type": "code",
   "execution_count": 1,
   "id": "92f8a0fd-6221-42f6-b683-7f8d094e866e",
   "metadata": {},
   "outputs": [
    {
     "name": "stdout",
     "output_type": "stream",
     "text": [
      "155.0\n"
     ]
    }
   ],
   "source": [
    "from sympy import symbols,Eq,solve\n",
    "def find(a,d,n):\n",
    "   return (n/2*(2*a+(n-1)*d))\n",
    "sum=find(2,3,10)\n",
    "print(sum)"
   ]
  },
  {
   "cell_type": "code",
   "execution_count": 43,
   "id": "51e0cc9b-ff89-4dc4-b7dd-b13af2237e89",
   "metadata": {},
   "outputs": [
    {
     "name": "stdout",
     "output_type": "stream",
     "text": [
      "[3000, 3500, 4000, 4500, 5000, 5500]\n"
     ]
    }
   ],
   "source": [
    "a = 3000\n",
    "d = 500\n",
    "sum = 0\n",
    "b = []\n",
    "for i in range(1, 7):  # Loop from 1 to 6 (inclusive of 1, exclusive of 7)\n",
    "    sum = a + (i - 1) * d  # Calculate the i-th term\n",
    "    b.append(sum)  # Append each term to the list\n",
    "\n",
    "print(b)\n",
    "  "
   ]
  },
  {
   "cell_type": "code",
   "execution_count": 47,
   "id": "db420fec-c72e-4343-850a-1edd8d536ff4",
   "metadata": {
    "collapsed": true,
    "jupyter": {
     "outputs_hidden": true
    }
   },
   "outputs": [
    {
     "name": "stdout",
     "output_type": "stream",
     "text": [
      "315.0\n"
     ]
    }
   ],
   "source": [
    "a=5\n",
    "r=2\n",
    "sum=0\n",
    "for i in range(1,7):\n",
    "    sum=(a*(1-r**i)/(1-r))\n",
    "print(sum)    "
   ]
  },
  {
   "cell_type": "code",
   "execution_count": 51,
   "id": "24efd841-9df6-4e3c-ac65-9ede10d526df",
   "metadata": {},
   "outputs": [
    {
     "name": "stdout",
     "output_type": "stream",
     "text": [
      "1008.0\n"
     ]
    }
   ],
   "source": [
    "a=16\n",
    "sum=a*(2**6-1)/1\n",
    "print(sum)"
   ]
  },
  {
   "cell_type": "code",
   "execution_count": 57,
   "id": "6031fdd3-e085-4512-9d22-60cd63687b4f",
   "metadata": {},
   "outputs": [
    {
     "name": "stdout",
     "output_type": "stream",
     "text": [
      "330.0\n"
     ]
    }
   ],
   "source": [
    "sum2=0\n",
    "sum1=0\n",
    "\n",
    "sum2=10*11*21/6\n",
    "sum1=10*11/2\n",
    "ans=sum2-sum1\n",
    "print(ans)"
   ]
  },
  {
   "cell_type": "code",
   "execution_count": null,
   "id": "a8fdba51-e805-476d-8e83-2b9391a3328f",
   "metadata": {},
   "outputs": [],
   "source": []
  }
 ],
 "metadata": {
  "kernelspec": {
   "display_name": "Python 3 (ipykernel)",
   "language": "python",
   "name": "python3"
  },
  "language_info": {
   "codemirror_mode": {
    "name": "ipython",
    "version": 3
   },
   "file_extension": ".py",
   "mimetype": "text/x-python",
   "name": "python",
   "nbconvert_exporter": "python",
   "pygments_lexer": "ipython3",
   "version": "3.12.7"
  }
 },
 "nbformat": 4,
 "nbformat_minor": 5
}
